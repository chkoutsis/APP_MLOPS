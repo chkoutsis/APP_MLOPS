{
 "cells": [
  {
   "attachments": {},
   "cell_type": "markdown",
   "metadata": {},
   "source": [
    "# The four features' definition \n",
    "\n",
    "N -> Press\n",
    "\n",
    "W -> Release\n",
    "\n",
    "- HT = W(i-1) - N(i-1)\n",
    "\n",
    "- PPT = Ni - N(i-1)\n",
    "\n",
    "- RRT = Wi - W(i-1)\n",
    "\n",
    "- RPT = Ni - W(i-1)\n",
    "\n"
   ]
  },
  {
   "attachments": {},
   "cell_type": "markdown",
   "metadata": {},
   "source": [
    "# Importing dependencies and paths"
   ]
  },
  {
   "cell_type": "code",
   "execution_count": 28,
   "metadata": {},
   "outputs": [],
   "source": [
    "import os\n",
    "import pandas as pd\n",
    "import numpy as np\n",
    "import joblib\n",
    "from sklearn import metrics\n",
    "from sklearn.model_selection import train_test_split\n",
    "from sklearn.multiclass import OneVsRestClassifier\n",
    "from sklearn.svm import SVC\n",
    "from sklearn.ensemble import RandomForestClassifier\n",
    "from xgboost import XGBClassifier\n",
    "\n",
    "path = os.getcwd()\n",
    "data = pd.read_csv(path + '\\Train_keystroke.csv')"
   ]
  },
  {
   "attachments": {},
   "cell_type": "markdown",
   "metadata": {},
   "source": [
    "# Creating a dataframe"
   ]
  },
  {
   "cell_type": "code",
   "execution_count": 29,
   "metadata": {},
   "outputs": [],
   "source": [
    "df = pd.DataFrame() "
   ]
  },
  {
   "attachments": {},
   "cell_type": "markdown",
   "metadata": {},
   "source": [
    "#  Generating HT, PPT, RRT, RPT for each two consecutive keys"
   ]
  },
  {
   "cell_type": "code",
   "execution_count": 30,
   "metadata": {},
   "outputs": [],
   "source": [
    "\n",
    "for _, row in data.iterrows():\n",
    "\n",
    "    list_ht = [row[2] - row[1]]\n",
    "    list_ppt = []\n",
    "    list_rrt = []\n",
    "    list_rpt = []\n",
    "\n",
    "    for i in range(4, len(row), 2):\n",
    "        ht = row[i] - row[i-1]\n",
    "        ppt = row[i-1] - row[i-3]\n",
    "        rrt = row[i] - row[i-2]\n",
    "        rpt = row[i-1] - row[i-2]\n",
    "\n",
    "        list_ht.append(ht)\n",
    "        list_ppt.append(ppt)\n",
    "        list_rrt.append(rrt)\n",
    "        list_rpt.append(rpt)\n",
    "\n",
    "    mean_ht = np.mean(list_ht)\n",
    "    mean_ppt = np.mean(list_ppt)\n",
    "    mean_rrt = np.mean(list_rrt)\n",
    "    mean_rpt = np.mean(list_rpt)\n",
    "\n",
    "    std_ht = np.std(list_ht)\n",
    "    std_ppt = np.std(list_ppt)\n",
    "    std_rrt = np.std(list_rrt)\n",
    "    std_rpt = np.std(list_rpt)\n",
    "\n",
    "                  \n",
    "    data = {'HT.Mean': mean_ht, 'HT.STD': std_ht,\n",
    "            'PPT.Mean': mean_ppt, 'PPT.STD': std_ppt,\n",
    "            'RRT.Mean': mean_rrt, 'RRT.STD': std_rrt,\n",
    "            'RPT.Mean': mean_rpt, 'RPT.STD': std_rpt,\n",
    "            'UserID': row[0]}\n",
    "            \n",
    "    new_df =  pd.DataFrame(pd.Series(data), index=None).T\n",
    "    new_df.reset_index(drop=True, inplace=True)\n",
    "    df = pd.concat([df, new_df], ignore_index=True,  axis=0)"
   ]
  },
  {
   "attachments": {},
   "cell_type": "markdown",
   "metadata": {},
   "source": [
    "# Spliting dataset into training set and test set"
   ]
  },
  {
   "cell_type": "code",
   "execution_count": 31,
   "metadata": {},
   "outputs": [],
   "source": [
    "y = df['UserID']\n",
    "X = df.drop(['UserID'], axis=1)\n",
    "\n",
    "X_train, X_test, y_train, y_test = train_test_split(X, y, test_size=0.3, random_state=3) # 70% training and 30% test"
   ]
  },
  {
   "attachments": {},
   "cell_type": "markdown",
   "metadata": {},
   "source": [
    "# Creating SVM Classifier and saving model"
   ]
  },
  {
   "cell_type": "code",
   "execution_count": 32,
   "metadata": {},
   "outputs": [
    {
     "data": {
      "text/plain": [
       "['svm_model.sav']"
      ]
     },
     "execution_count": 32,
     "metadata": {},
     "output_type": "execute_result"
    }
   ],
   "source": [
    "\n",
    "svc = SVC()\n",
    "svc_classifier = OneVsRestClassifier(svc).fit(X_train, y_train)\n",
    "y_pred = svc_classifier.predict(X_test)\n",
    "joblib.dump(svc_classifier, 'svm_model.sav')"
   ]
  },
  {
   "attachments": {},
   "cell_type": "markdown",
   "metadata": {},
   "source": [
    "# Creating Random Forest Classifier and saving model"
   ]
  },
  {
   "cell_type": "code",
   "execution_count": 33,
   "metadata": {},
   "outputs": [
    {
     "data": {
      "text/plain": [
       "['rf_model.sav']"
      ]
     },
     "execution_count": 33,
     "metadata": {},
     "output_type": "execute_result"
    }
   ],
   "source": [
    "\n",
    "rf_classifier = RandomForestClassifier().fit(X_train, y_train)\n",
    "y_pred = rf_classifier.predict(X_test)\n",
    "joblib.dump(rf_classifier, 'rf_model.sav')"
   ]
  },
  {
   "attachments": {},
   "cell_type": "markdown",
   "metadata": {},
   "source": [
    "# Creating XGBoost Classifier and saving model"
   ]
  },
  {
   "cell_type": "code",
   "execution_count": 34,
   "metadata": {},
   "outputs": [
    {
     "data": {
      "text/plain": [
       "['xgb_model.sav']"
      ]
     },
     "execution_count": 34,
     "metadata": {},
     "output_type": "execute_result"
    }
   ],
   "source": [
    "\n",
    "xgb_classifier = OneVsRestClassifier(XGBClassifier()).fit(X, y)\n",
    "y_pred = xgb_classifier.predict(X_test)\n",
    "joblib.dump(xgb_classifier, 'xgb_model.sav')"
   ]
  },
  {
   "cell_type": "code",
   "execution_count": null,
   "metadata": {},
   "outputs": [],
   "source": []
  }
 ],
 "metadata": {
  "kernelspec": {
   "display_name": "Python 3",
   "language": "python",
   "name": "python3"
  },
  "language_info": {
   "codemirror_mode": {
    "name": "ipython",
    "version": 3
   },
   "file_extension": ".py",
   "mimetype": "text/x-python",
   "name": "python",
   "nbconvert_exporter": "python",
   "pygments_lexer": "ipython3",
   "version": "3.10.2"
  },
  "orig_nbformat": 4,
  "vscode": {
   "interpreter": {
    "hash": "ea6df2d12ec6b4b1c88d48408d8dabef04cd658b0af90d6a7416a36084cb1ec4"
   }
  }
 },
 "nbformat": 4,
 "nbformat_minor": 2
}
